{
 "cells": [
  {
   "cell_type": "code",
   "execution_count": 2,
   "metadata": {},
   "outputs": [],
   "source": [
    "import pandas as pd\n",
    "import numpy as np\n",
    "import matplotlib.pyplot as plt\n",
    "import sklearn\n",
    "import seaborn as sns\n",
    "from sklearn.metrics import fbeta_score\n",
    "from sklearn.metrics import confusion_matrix, ConfusionMatrixDisplay\n",
    "from sklearn.metrics import roc_auc_score\n",
    "from sklearn.metrics import roc_curve"
   ]
  },
  {
   "cell_type": "code",
   "execution_count": 5,
   "metadata": {},
   "outputs": [],
   "source": [
    "data=pd.read_csv(\"frb_2_data.csv\")"
   ]
  },
  {
   "cell_type": "code",
   "execution_count": 6,
   "metadata": {},
   "outputs": [
    {
     "data": {
      "text/html": [
       "<div>\n",
       "<style scoped>\n",
       "    .dataframe tbody tr th:only-of-type {\n",
       "        vertical-align: middle;\n",
       "    }\n",
       "\n",
       "    .dataframe tbody tr th {\n",
       "        vertical-align: top;\n",
       "    }\n",
       "\n",
       "    .dataframe thead th {\n",
       "        text-align: right;\n",
       "    }\n",
       "</style>\n",
       "<table border=\"1\" class=\"dataframe\">\n",
       "  <thead>\n",
       "    <tr style=\"text-align: right;\">\n",
       "      <th></th>\n",
       "      <th>tns_name</th>\n",
       "      <th>repeater_name</th>\n",
       "      <th>dm_exc_ne2001</th>\n",
       "      <th>bc_width</th>\n",
       "      <th>flux</th>\n",
       "      <th>fluence</th>\n",
       "      <th>width_fitb</th>\n",
       "      <th>high_freq</th>\n",
       "      <th>low_freq</th>\n",
       "      <th>peak_freq</th>\n",
       "      <th>redshift</th>\n",
       "      <th>mid_freq</th>\n",
       "      <th>L_dist</th>\n",
       "      <th>bright_temp</th>\n",
       "      <th>rest_pulse_width</th>\n",
       "      <th>rest_freq_bandwidth</th>\n",
       "      <th>burst_energy</th>\n",
       "      <th>luminosity</th>\n",
       "    </tr>\n",
       "  </thead>\n",
       "  <tbody>\n",
       "    <tr>\n",
       "      <th>0</th>\n",
       "      <td>FRB20180725A</td>\n",
       "      <td>-9999</td>\n",
       "      <td>644.2</td>\n",
       "      <td>0.00295</td>\n",
       "      <td>1.70</td>\n",
       "      <td>4.10</td>\n",
       "      <td>0.000296</td>\n",
       "      <td>760.1</td>\n",
       "      <td>485.3</td>\n",
       "      <td>607.4</td>\n",
       "      <td>0.792216</td>\n",
       "      <td>622.70</td>\n",
       "      <td>1.199517e+26</td>\n",
       "      <td>4.630920e+37</td>\n",
       "      <td>0.000165</td>\n",
       "      <td>492.500924</td>\n",
       "      <td>2.512414e+27</td>\n",
       "      <td>1.867010e+30</td>\n",
       "    </tr>\n",
       "    <tr>\n",
       "      <th>1</th>\n",
       "      <td>FRB20180727A</td>\n",
       "      <td>-9999</td>\n",
       "      <td>620.9</td>\n",
       "      <td>0.00295</td>\n",
       "      <td>0.58</td>\n",
       "      <td>2.31</td>\n",
       "      <td>0.001390</td>\n",
       "      <td>800.2</td>\n",
       "      <td>400.2</td>\n",
       "      <td>493.3</td>\n",
       "      <td>0.767614</td>\n",
       "      <td>600.20</td>\n",
       "      <td>1.158830e+26</td>\n",
       "      <td>7.297861e+35</td>\n",
       "      <td>0.000786</td>\n",
       "      <td>707.045531</td>\n",
       "      <td>1.087891e+27</td>\n",
       "      <td>4.828238e+29</td>\n",
       "    </tr>\n",
       "    <tr>\n",
       "      <th>2</th>\n",
       "      <td>FRB20180729A</td>\n",
       "      <td>-9999</td>\n",
       "      <td>78.8</td>\n",
       "      <td>0.00098</td>\n",
       "      <td>11.70</td>\n",
       "      <td>17.00</td>\n",
       "      <td>0.000100</td>\n",
       "      <td>692.7</td>\n",
       "      <td>400.2</td>\n",
       "      <td>525.6</td>\n",
       "      <td>0.196666</td>\n",
       "      <td>546.45</td>\n",
       "      <td>2.717721e+25</td>\n",
       "      <td>2.787780e+38</td>\n",
       "      <td>0.000084</td>\n",
       "      <td>350.024867</td>\n",
       "      <td>6.930280e+26</td>\n",
       "      <td>5.707695e+29</td>\n",
       "    </tr>\n",
       "    <tr>\n",
       "      <th>3</th>\n",
       "      <td>FRB20180729B</td>\n",
       "      <td>-9999</td>\n",
       "      <td>223.2</td>\n",
       "      <td>0.00197</td>\n",
       "      <td>0.92</td>\n",
       "      <td>1.20</td>\n",
       "      <td>0.000314</td>\n",
       "      <td>800.2</td>\n",
       "      <td>441.8</td>\n",
       "      <td>657.5</td>\n",
       "      <td>0.350179</td>\n",
       "      <td>621.00</td>\n",
       "      <td>4.978343e+25</td>\n",
       "      <td>5.119889e+36</td>\n",
       "      <td>0.000233</td>\n",
       "      <td>483.904159</td>\n",
       "      <td>1.819974e+26</td>\n",
       "      <td>1.883923e+29</td>\n",
       "    </tr>\n",
       "    <tr>\n",
       "      <th>4</th>\n",
       "      <td>FRB20180730A</td>\n",
       "      <td>-9999</td>\n",
       "      <td>789.7</td>\n",
       "      <td>0.00492</td>\n",
       "      <td>5.20</td>\n",
       "      <td>27.00</td>\n",
       "      <td>0.000468</td>\n",
       "      <td>759.2</td>\n",
       "      <td>400.2</td>\n",
       "      <td>483.5</td>\n",
       "      <td>0.947129</td>\n",
       "      <td>579.70</td>\n",
       "      <td>1.459413e+26</td>\n",
       "      <td>8.908483e+37</td>\n",
       "      <td>0.000240</td>\n",
       "      <td>699.019239</td>\n",
       "      <td>1.794453e+28</td>\n",
       "      <td>6.729243e+30</td>\n",
       "    </tr>\n",
       "    <tr>\n",
       "      <th>...</th>\n",
       "      <td>...</td>\n",
       "      <td>...</td>\n",
       "      <td>...</td>\n",
       "      <td>...</td>\n",
       "      <td>...</td>\n",
       "      <td>...</td>\n",
       "      <td>...</td>\n",
       "      <td>...</td>\n",
       "      <td>...</td>\n",
       "      <td>...</td>\n",
       "      <td>...</td>\n",
       "      <td>...</td>\n",
       "      <td>...</td>\n",
       "      <td>...</td>\n",
       "      <td>...</td>\n",
       "      <td>...</td>\n",
       "      <td>...</td>\n",
       "      <td>...</td>\n",
       "    </tr>\n",
       "    <tr>\n",
       "      <th>589</th>\n",
       "      <td>FRB20190701A</td>\n",
       "      <td>-9999</td>\n",
       "      <td>582.8</td>\n",
       "      <td>0.00197</td>\n",
       "      <td>1.26</td>\n",
       "      <td>1.70</td>\n",
       "      <td>0.000608</td>\n",
       "      <td>800.2</td>\n",
       "      <td>400.2</td>\n",
       "      <td>800.2</td>\n",
       "      <td>0.727410</td>\n",
       "      <td>600.20</td>\n",
       "      <td>1.092710e+26</td>\n",
       "      <td>7.539154e+36</td>\n",
       "      <td>0.000352</td>\n",
       "      <td>690.964190</td>\n",
       "      <td>1.181603e+27</td>\n",
       "      <td>1.512826e+30</td>\n",
       "    </tr>\n",
       "    <tr>\n",
       "      <th>590</th>\n",
       "      <td>FRB20190701B</td>\n",
       "      <td>-9999</td>\n",
       "      <td>687.6</td>\n",
       "      <td>0.00295</td>\n",
       "      <td>1.10</td>\n",
       "      <td>1.90</td>\n",
       "      <td>0.000630</td>\n",
       "      <td>732.8</td>\n",
       "      <td>400.2</td>\n",
       "      <td>471.5</td>\n",
       "      <td>0.838220</td>\n",
       "      <td>566.50</td>\n",
       "      <td>1.276044e+26</td>\n",
       "      <td>8.818246e+36</td>\n",
       "      <td>0.000343</td>\n",
       "      <td>611.391878</td>\n",
       "      <td>9.971920e+26</td>\n",
       "      <td>1.061244e+30</td>\n",
       "    </tr>\n",
       "    <tr>\n",
       "      <th>591</th>\n",
       "      <td>FRB20190701C</td>\n",
       "      <td>-9999</td>\n",
       "      <td>915.8</td>\n",
       "      <td>0.00197</td>\n",
       "      <td>0.88</td>\n",
       "      <td>2.50</td>\n",
       "      <td>0.001440</td>\n",
       "      <td>495.5</td>\n",
       "      <td>402.2</td>\n",
       "      <td>446.4</td>\n",
       "      <td>1.083240</td>\n",
       "      <td>448.85</td>\n",
       "      <td>1.692618e+26</td>\n",
       "      <td>3.339418e+36</td>\n",
       "      <td>0.000691</td>\n",
       "      <td>194.366306</td>\n",
       "      <td>1.928647e+27</td>\n",
       "      <td>1.414278e+30</td>\n",
       "    </tr>\n",
       "    <tr>\n",
       "      <th>592</th>\n",
       "      <td>FRB20190701D</td>\n",
       "      <td>-9999</td>\n",
       "      <td>877.4</td>\n",
       "      <td>0.00885</td>\n",
       "      <td>1.33</td>\n",
       "      <td>8.60</td>\n",
       "      <td>0.001400</td>\n",
       "      <td>651.8</td>\n",
       "      <td>400.2</td>\n",
       "      <td>467.6</td>\n",
       "      <td>1.041637</td>\n",
       "      <td>526.00</td>\n",
       "      <td>1.620886e+26</td>\n",
       "      <td>3.638206e+36</td>\n",
       "      <td>0.000686</td>\n",
       "      <td>513.675789</td>\n",
       "      <td>6.502931e+27</td>\n",
       "      <td>2.053245e+30</td>\n",
       "    </tr>\n",
       "    <tr>\n",
       "      <th>593</th>\n",
       "      <td>FRB20190701E</td>\n",
       "      <td>-9999</td>\n",
       "      <td>848.1</td>\n",
       "      <td>0.00295</td>\n",
       "      <td>0.68</td>\n",
       "      <td>2.00</td>\n",
       "      <td>0.000420</td>\n",
       "      <td>800.2</td>\n",
       "      <td>400.2</td>\n",
       "      <td>410.3</td>\n",
       "      <td>1.009934</td>\n",
       "      <td>600.20</td>\n",
       "      <td>1.566487e+26</td>\n",
       "      <td>1.506007e+37</td>\n",
       "      <td>0.000209</td>\n",
       "      <td>803.973615</td>\n",
       "      <td>1.258964e+27</td>\n",
       "      <td>8.603474e+29</td>\n",
       "    </tr>\n",
       "  </tbody>\n",
       "</table>\n",
       "<p>594 rows × 18 columns</p>\n",
       "</div>"
      ],
      "text/plain": [
       "         tns_name repeater_name  dm_exc_ne2001  bc_width   flux  fluence  \\\n",
       "0    FRB20180725A         -9999          644.2   0.00295   1.70     4.10   \n",
       "1    FRB20180727A         -9999          620.9   0.00295   0.58     2.31   \n",
       "2    FRB20180729A         -9999           78.8   0.00098  11.70    17.00   \n",
       "3    FRB20180729B         -9999          223.2   0.00197   0.92     1.20   \n",
       "4    FRB20180730A         -9999          789.7   0.00492   5.20    27.00   \n",
       "..            ...           ...            ...       ...    ...      ...   \n",
       "589  FRB20190701A         -9999          582.8   0.00197   1.26     1.70   \n",
       "590  FRB20190701B         -9999          687.6   0.00295   1.10     1.90   \n",
       "591  FRB20190701C         -9999          915.8   0.00197   0.88     2.50   \n",
       "592  FRB20190701D         -9999          877.4   0.00885   1.33     8.60   \n",
       "593  FRB20190701E         -9999          848.1   0.00295   0.68     2.00   \n",
       "\n",
       "     width_fitb  high_freq  low_freq  peak_freq  redshift  mid_freq  \\\n",
       "0      0.000296      760.1     485.3      607.4  0.792216    622.70   \n",
       "1      0.001390      800.2     400.2      493.3  0.767614    600.20   \n",
       "2      0.000100      692.7     400.2      525.6  0.196666    546.45   \n",
       "3      0.000314      800.2     441.8      657.5  0.350179    621.00   \n",
       "4      0.000468      759.2     400.2      483.5  0.947129    579.70   \n",
       "..          ...        ...       ...        ...       ...       ...   \n",
       "589    0.000608      800.2     400.2      800.2  0.727410    600.20   \n",
       "590    0.000630      732.8     400.2      471.5  0.838220    566.50   \n",
       "591    0.001440      495.5     402.2      446.4  1.083240    448.85   \n",
       "592    0.001400      651.8     400.2      467.6  1.041637    526.00   \n",
       "593    0.000420      800.2     400.2      410.3  1.009934    600.20   \n",
       "\n",
       "           L_dist   bright_temp  rest_pulse_width  rest_freq_bandwidth  \\\n",
       "0    1.199517e+26  4.630920e+37          0.000165           492.500924   \n",
       "1    1.158830e+26  7.297861e+35          0.000786           707.045531   \n",
       "2    2.717721e+25  2.787780e+38          0.000084           350.024867   \n",
       "3    4.978343e+25  5.119889e+36          0.000233           483.904159   \n",
       "4    1.459413e+26  8.908483e+37          0.000240           699.019239   \n",
       "..            ...           ...               ...                  ...   \n",
       "589  1.092710e+26  7.539154e+36          0.000352           690.964190   \n",
       "590  1.276044e+26  8.818246e+36          0.000343           611.391878   \n",
       "591  1.692618e+26  3.339418e+36          0.000691           194.366306   \n",
       "592  1.620886e+26  3.638206e+36          0.000686           513.675789   \n",
       "593  1.566487e+26  1.506007e+37          0.000209           803.973615   \n",
       "\n",
       "     burst_energy    luminosity  \n",
       "0    2.512414e+27  1.867010e+30  \n",
       "1    1.087891e+27  4.828238e+29  \n",
       "2    6.930280e+26  5.707695e+29  \n",
       "3    1.819974e+26  1.883923e+29  \n",
       "4    1.794453e+28  6.729243e+30  \n",
       "..            ...           ...  \n",
       "589  1.181603e+27  1.512826e+30  \n",
       "590  9.971920e+26  1.061244e+30  \n",
       "591  1.928647e+27  1.414278e+30  \n",
       "592  6.502931e+27  2.053245e+30  \n",
       "593  1.258964e+27  8.603474e+29  \n",
       "\n",
       "[594 rows x 18 columns]"
      ]
     },
     "execution_count": 6,
     "metadata": {},
     "output_type": "execute_result"
    }
   ],
   "source": [
    "data"
   ]
  },
  {
   "cell_type": "code",
   "execution_count": 7,
   "metadata": {},
   "outputs": [],
   "source": [
    "data['bc_width']=data['bc_width']*1000\n",
    "data[\"rest_pulse_width\"]=data['rest_pulse_width']*1000\n",
    "data['bright_temp']=np.log10(data['bright_temp'])\n",
    "data['burst_energy']=np.log10(data['burst_energy'])\n",
    "data['rest_freq_bandwidth']=np.log10(data['rest_freq_bandwidth'])\n",
    "data['luminosity']=np.log10(data['luminosity'])\n",
    "\n",
    "for i in range(len(data)):\n",
    "    if data.iloc[i,1] != '-9999':\n",
    "       data.iloc[i,0]= data.iloc[i,1]\n",
    "\n",
    "for i in range(len(data)):\n",
    "    if data.iloc[i,1] != '-9999':\n",
    "       data.iloc[i,1]= 1\n",
    "    else:\n",
    "        data.iloc[i,1]=0         "
   ]
  },
  {
   "cell_type": "code",
   "execution_count": 9,
   "metadata": {},
   "outputs": [],
   "source": [
    "data.to_csv(\"frb_2_final.csv\")"
   ]
  },
  {
   "cell_type": "code",
   "execution_count": 5,
   "metadata": {},
   "outputs": [],
   "source": [
    "file=pd.read_csv('frb_2_final.csv')"
   ]
  },
  {
   "cell_type": "code",
   "execution_count": 6,
   "metadata": {},
   "outputs": [
    {
     "name": "stdout",
     "output_type": "stream",
     "text": [
      "<class 'pandas.core.frame.DataFrame'>\n",
      "RangeIndex: 594 entries, 0 to 593\n",
      "Data columns (total 18 columns):\n",
      " #   Column               Non-Null Count  Dtype  \n",
      "---  ------               --------------  -----  \n",
      " 0   tns_name             594 non-null    object \n",
      " 1   repeater_name        594 non-null    int64  \n",
      " 2   dm_exc_ne2001        594 non-null    float64\n",
      " 3   bc_width             594 non-null    float64\n",
      " 4   flux                 594 non-null    float64\n",
      " 5   fluence              594 non-null    float64\n",
      " 6   width_fitb           594 non-null    float64\n",
      " 7   high_freq            594 non-null    float64\n",
      " 8   low_freq             594 non-null    float64\n",
      " 9   peak_freq            594 non-null    float64\n",
      " 10  redshift             594 non-null    float64\n",
      " 11  mid_freq             594 non-null    float64\n",
      " 12  L_dist               594 non-null    float64\n",
      " 13  bright_temp          594 non-null    float64\n",
      " 14  rest_pulse_width     594 non-null    float64\n",
      " 15  rest_freq_bandwidth  594 non-null    float64\n",
      " 16  burst_energy         594 non-null    float64\n",
      " 17  luminosity           594 non-null    float64\n",
      "dtypes: float64(16), int64(1), object(1)\n",
      "memory usage: 83.7+ KB\n"
     ]
    }
   ],
   "source": [
    "file.info()"
   ]
  },
  {
   "cell_type": "code",
   "execution_count": 7,
   "metadata": {},
   "outputs": [],
   "source": [
    "\n",
    "x= file.drop(['repeater_name','tns_name','width_fitb','high_freq','low_freq','mid_freq','L_dist'],axis=1)\n",
    "y=file['repeater_name']\n",
    "\n",
    "from sklearn.preprocessing import StandardScaler\n",
    "X =StandardScaler().fit_transform(x)\n",
    "x=pd.DataFrame(X,columns=['dm_exc_ne2001','bc_width','flux','fluence','peak_freq','redshift','bright_temp','rest_pulse_width','rest_freq_bandwidth','burst_energy','luminosity'])\n",
    "\n",
    "\n",
    "\n"
   ]
  },
  {
   "cell_type": "code",
   "execution_count": 8,
   "metadata": {},
   "outputs": [],
   "source": [
    "y=pd.DataFrame(data=y)"
   ]
  },
  {
   "cell_type": "markdown",
   "metadata": {},
   "source": [
    "# PCA"
   ]
  },
  {
   "cell_type": "code",
   "execution_count": 11,
   "metadata": {},
   "outputs": [],
   "source": [
    "from sklearn.decomposition import PCA\n",
    "import sklearn.cluster as cluster\n",
    "import sklearn.metrics as metrics"
   ]
  },
  {
   "cell_type": "code",
   "execution_count": 12,
   "metadata": {},
   "outputs": [
    {
     "data": {
      "text/plain": [
       "Text(0, 0.5, 'cumulative explained variance')"
      ]
     },
     "execution_count": 12,
     "metadata": {},
     "output_type": "execute_result"
    },
    {
     "data": {
      "image/png": "[encoded data removed]",
      "text/plain": [
       "<Figure size 432x288 with 1 Axes>"
      ]
     },
     "metadata": {
      "needs_background": "light"
     },
     "output_type": "display_data"
    }
   ],
   "source": [
    "principal=PCA(n_components=11)\n",
    "principal.fit(x)\n",
    "plt.plot(np.cumsum(principal.explained_variance_ratio_))\n",
    "plt.xlabel('number of components')\n",
    "plt.ylabel('cumulative explained variance')"
   ]
  },
  {
   "cell_type": "code",
   "execution_count": 74,
   "metadata": {},
   "outputs": [
    {
     "name": "stdout",
     "output_type": "stream",
     "text": [
      "(594, 3)\n"
     ]
    }
   ],
   "source": [
    "# Set the n_components=3\n",
    "principal=PCA(n_components=3)\n",
    "principal.fit(x)\n",
    "x_tr_1=principal.transform(x)\n",
    " \n",
    "# Check the dimensions of data after PCA\n",
    "print(x_tr_1.shape)"
   ]
  },
  {
   "cell_type": "code",
   "execution_count": 85,
   "metadata": {},
   "outputs": [
    {
     "data": {
      "text/plain": [
       "Text(0.5, 0.92, 'purple: repeating, blue: non-repeating')"
      ]
     },
     "execution_count": 85,
     "metadata": {},
     "output_type": "execute_result"
    },
    {
     "data": {
      "image/png": "[encoded data removed]",
      "text/plain": [
       "<Figure size 720x720 with 1 Axes>"
      ]
     },
     "metadata": {
      "needs_background": "light"
     },
     "output_type": "display_data"
    }
   ],
   "source": [
    "# import relevant libraries for 3d graph\n",
    "from mpl_toolkits.mplot3d import Axes3D\n",
    "fig = plt.figure(figsize=(10,10))\n",
    " \n",
    "# choose projection 3d for creating a 3d graph\n",
    "axis = fig.add_subplot(111, projection='3d')\n",
    " \n",
    "# x[:,0]is pc1,x[:,1] is pc2 while x[:,2] is pc3\n",
    "axis.scatter(x_tr_1[:,0],x_tr_1[:,1],x_tr_1[:,2], c=y['repeater_name'],cmap='cool')\n",
    "axis.set_xlabel(\"PC1\", fontsize=10)\n",
    "axis.set_ylabel(\"PC2\", fontsize=10)\n",
    "axis.set_zlabel(\"PC3\", fontsize=10)\n",
    "\n",
    "axis.set_title('purple: repeating, blue: non-repeating')"
   ]
  },
  {
   "cell_type": "code",
   "execution_count": 15,
   "metadata": {},
   "outputs": [
    {
     "data": {
      "image/png": "[encoded data removed]",
      "text/plain": [
       "<Figure size 432x288 with 1 Axes>"
      ]
     },
     "metadata": {
      "needs_background": "light"
     },
     "output_type": "display_data"
    }
   ],
   "source": [
    "from sklearn.metrics import silhouette_score\n",
    "\n",
    "k = range(0,10,1)\n",
    "silhouette_avg = []\n",
    "for i in k:\n",
    " \n",
    " # initialise kmeans\n",
    " kmeans = kmeans=cluster.KMeans(n_clusters=i+2)\n",
    " kmeans.fit(x_tr_1)\n",
    " cluster_labels = kmeans.labels_\n",
    " \n",
    " # silhouette score\n",
    " silhouette_avg.append(silhouette_score(x_tr_1, cluster_labels))\n",
    "\n",
    "plt.plot(k,silhouette_avg)\n",
    "plt.xlabel('Values of K') \n",
    "plt.ylabel('Silhouette score') \n",
    "plt.title('Silhouette analysis For Optimal k')\n",
    "plt.show()"
   ]
  },
  {
   "cell_type": "code",
   "execution_count": 16,
   "metadata": {},
   "outputs": [],
   "source": [
    "kmeans=cluster.KMeans(n_clusters=2)\n",
    "clusters_1=kmeans.fit_predict(x_tr_1)"
   ]
  },
  {
   "cell_type": "markdown",
   "metadata": {},
   "source": [
    "# T-SNE"
   ]
  },
  {
   "cell_type": "code",
   "execution_count": 266,
   "metadata": {},
   "outputs": [
    {
     "name": "stderr",
     "output_type": "stream",
     "text": [
      "/home/pratyaksh/.local/lib/python3.10/site-packages/sklearn/manifold/_t_sne.py:800: FutureWarning: The default initialization in TSNE will change from 'random' to 'pca' in 1.2.\n",
      "  warnings.warn(\n",
      "/home/pratyaksh/.local/lib/python3.10/site-packages/sklearn/manifold/_t_sne.py:810: FutureWarning: The default learning rate in TSNE will change from 200.0 to 'auto' in 1.2.\n",
      "  warnings.warn(\n"
     ]
    },
    {
     "data": {
      "text/plain": [
       "(594, 2)"
      ]
     },
     "execution_count": 266,
     "metadata": {},
     "output_type": "execute_result"
    }
   ],
   "source": [
    "from sklearn.manifold import TSNE\n",
    "import seaborn as sns\n",
    " \n",
    "# We want to get TSNE embedding with 2 dimensions\n",
    "n_components = 2\n",
    "tsne = TSNE(n_components,n_iter=1000)\n",
    "x_tr_2= tsne.fit_transform(x)\n",
    "x_tr_2.shape\n"
   ]
  },
  {
   "cell_type": "code",
   "execution_count": 267,
   "metadata": {},
   "outputs": [
    {
     "data": {
      "text/plain": [
       "Text(0.5, 1.0, 'Dark Blue: non-repeating, green: repeating')"
      ]
     },
     "execution_count": 267,
     "metadata": {},
     "output_type": "execute_result"
    },
    {
     "data": {
      "image/png": "[encoded data removed]",
      "text/plain": [
       "<Figure size 432x288 with 1 Axes>"
      ]
     },
     "metadata": {
      "needs_background": "light"
     },
     "output_type": "display_data"
    }
   ],
   "source": [
    "plt.scatter(x_tr_2[:,0],x_tr_2[:,1],c=y['repeater_name'].values,cmap='winter')\n",
    "plt.xlabel('pc1')\n",
    "plt.ylabel('pc2')\n",
    "plt.title('Dark Blue: non-repeating, green: repeating')"
   ]
  },
  {
   "cell_type": "code",
   "execution_count": 49,
   "metadata": {},
   "outputs": [],
   "source": [
    "import hdbscan"
   ]
  },
  {
   "cell_type": "code",
   "execution_count": 292,
   "metadata": {},
   "outputs": [],
   "source": [
    "clusters_2= hdbscan.HDBSCAN(min_cluster_size=35,min_samples=2).fit_predict(x_tr_2)"
   ]
  },
  {
   "cell_type": "markdown",
   "metadata": {},
   "source": [
    "x--------------x"
   ]
  },
  {
   "cell_type": "code",
   "execution_count": null,
   "metadata": {},
   "outputs": [],
   "source": [
    "file['kmeans']=clusters_1"
   ]
  },
  {
   "cell_type": "code",
   "execution_count": 355,
   "metadata": {},
   "outputs": [],
   "source": [
    "\n",
    "file['hdbscan']=clusters_2"
   ]
  },
  {
   "cell_type": "code",
   "execution_count": 294,
   "metadata": {},
   "outputs": [
    {
     "data": {
      "text/html": [
       "<div>\n",
       "<style scoped>\n",
       "    .dataframe tbody tr th:only-of-type {\n",
       "        vertical-align: middle;\n",
       "    }\n",
       "\n",
       "    .dataframe tbody tr th {\n",
       "        vertical-align: top;\n",
       "    }\n",
       "\n",
       "    .dataframe thead th {\n",
       "        text-align: right;\n",
       "    }\n",
       "</style>\n",
       "<table border=\"1\" class=\"dataframe\">\n",
       "  <thead>\n",
       "    <tr style=\"text-align: right;\">\n",
       "      <th></th>\n",
       "      <th>tns_name</th>\n",
       "      <th>repeater_name</th>\n",
       "      <th>dm_exc_ne2001</th>\n",
       "      <th>bc_width</th>\n",
       "      <th>flux</th>\n",
       "      <th>fluence</th>\n",
       "      <th>width_fitb</th>\n",
       "      <th>high_freq</th>\n",
       "      <th>low_freq</th>\n",
       "      <th>peak_freq</th>\n",
       "      <th>redshift</th>\n",
       "      <th>mid_freq</th>\n",
       "      <th>L_dist</th>\n",
       "      <th>bright_temp</th>\n",
       "      <th>rest_pulse_width</th>\n",
       "      <th>rest_freq_bandwidth</th>\n",
       "      <th>burst_energy</th>\n",
       "      <th>luminosity</th>\n",
       "      <th>kmeans</th>\n",
       "      <th>hdbscan</th>\n",
       "    </tr>\n",
       "  </thead>\n",
       "  <tbody>\n",
       "    <tr>\n",
       "      <th>0</th>\n",
       "      <td>FRB20180725A</td>\n",
       "      <td>0</td>\n",
       "      <td>644.2</td>\n",
       "      <td>2.95</td>\n",
       "      <td>1.70</td>\n",
       "      <td>4.10</td>\n",
       "      <td>0.000296</td>\n",
       "      <td>760.1</td>\n",
       "      <td>485.3</td>\n",
       "      <td>607.4</td>\n",
       "      <td>0.792216</td>\n",
       "      <td>622.70</td>\n",
       "      <td>1.199517e+26</td>\n",
       "      <td>37.665667</td>\n",
       "      <td>0.165159</td>\n",
       "      <td>2.692407</td>\n",
       "      <td>27.400091</td>\n",
       "      <td>30.271147</td>\n",
       "      <td>0</td>\n",
       "      <td>-1</td>\n",
       "    </tr>\n",
       "    <tr>\n",
       "      <th>1</th>\n",
       "      <td>FRB20180727A</td>\n",
       "      <td>0</td>\n",
       "      <td>620.9</td>\n",
       "      <td>2.95</td>\n",
       "      <td>0.58</td>\n",
       "      <td>2.31</td>\n",
       "      <td>0.001390</td>\n",
       "      <td>800.2</td>\n",
       "      <td>400.2</td>\n",
       "      <td>493.3</td>\n",
       "      <td>0.767614</td>\n",
       "      <td>600.20</td>\n",
       "      <td>1.158830e+26</td>\n",
       "      <td>35.863196</td>\n",
       "      <td>0.786371</td>\n",
       "      <td>2.849447</td>\n",
       "      <td>27.036585</td>\n",
       "      <td>29.683789</td>\n",
       "      <td>1</td>\n",
       "      <td>4</td>\n",
       "    </tr>\n",
       "    <tr>\n",
       "      <th>2</th>\n",
       "      <td>FRB20180729A</td>\n",
       "      <td>0</td>\n",
       "      <td>78.8</td>\n",
       "      <td>0.98</td>\n",
       "      <td>11.70</td>\n",
       "      <td>17.00</td>\n",
       "      <td>0.000100</td>\n",
       "      <td>692.7</td>\n",
       "      <td>400.2</td>\n",
       "      <td>525.6</td>\n",
       "      <td>0.196666</td>\n",
       "      <td>546.45</td>\n",
       "      <td>2.717721e+25</td>\n",
       "      <td>38.445258</td>\n",
       "      <td>0.083565</td>\n",
       "      <td>2.544099</td>\n",
       "      <td>26.840751</td>\n",
       "      <td>29.756461</td>\n",
       "      <td>1</td>\n",
       "      <td>3</td>\n",
       "    </tr>\n",
       "    <tr>\n",
       "      <th>3</th>\n",
       "      <td>FRB20180729B</td>\n",
       "      <td>0</td>\n",
       "      <td>223.2</td>\n",
       "      <td>1.97</td>\n",
       "      <td>0.92</td>\n",
       "      <td>1.20</td>\n",
       "      <td>0.000314</td>\n",
       "      <td>800.2</td>\n",
       "      <td>441.8</td>\n",
       "      <td>657.5</td>\n",
       "      <td>0.350179</td>\n",
       "      <td>621.00</td>\n",
       "      <td>4.978343e+25</td>\n",
       "      <td>36.709261</td>\n",
       "      <td>0.232562</td>\n",
       "      <td>2.684759</td>\n",
       "      <td>26.260065</td>\n",
       "      <td>29.275063</td>\n",
       "      <td>1</td>\n",
       "      <td>1</td>\n",
       "    </tr>\n",
       "    <tr>\n",
       "      <th>4</th>\n",
       "      <td>FRB20180730A</td>\n",
       "      <td>0</td>\n",
       "      <td>789.7</td>\n",
       "      <td>4.92</td>\n",
       "      <td>5.20</td>\n",
       "      <td>27.00</td>\n",
       "      <td>0.000468</td>\n",
       "      <td>759.2</td>\n",
       "      <td>400.2</td>\n",
       "      <td>483.5</td>\n",
       "      <td>0.947129</td>\n",
       "      <td>579.70</td>\n",
       "      <td>1.459413e+26</td>\n",
       "      <td>37.949804</td>\n",
       "      <td>0.240354</td>\n",
       "      <td>2.844489</td>\n",
       "      <td>28.253932</td>\n",
       "      <td>30.827966</td>\n",
       "      <td>0</td>\n",
       "      <td>-1</td>\n",
       "    </tr>\n",
       "    <tr>\n",
       "      <th>...</th>\n",
       "      <td>...</td>\n",
       "      <td>...</td>\n",
       "      <td>...</td>\n",
       "      <td>...</td>\n",
       "      <td>...</td>\n",
       "      <td>...</td>\n",
       "      <td>...</td>\n",
       "      <td>...</td>\n",
       "      <td>...</td>\n",
       "      <td>...</td>\n",
       "      <td>...</td>\n",
       "      <td>...</td>\n",
       "      <td>...</td>\n",
       "      <td>...</td>\n",
       "      <td>...</td>\n",
       "      <td>...</td>\n",
       "      <td>...</td>\n",
       "      <td>...</td>\n",
       "      <td>...</td>\n",
       "      <td>...</td>\n",
       "    </tr>\n",
       "    <tr>\n",
       "      <th>589</th>\n",
       "      <td>FRB20190701A</td>\n",
       "      <td>0</td>\n",
       "      <td>582.8</td>\n",
       "      <td>1.97</td>\n",
       "      <td>1.26</td>\n",
       "      <td>1.70</td>\n",
       "      <td>0.000608</td>\n",
       "      <td>800.2</td>\n",
       "      <td>400.2</td>\n",
       "      <td>800.2</td>\n",
       "      <td>0.727410</td>\n",
       "      <td>600.20</td>\n",
       "      <td>1.092710e+26</td>\n",
       "      <td>36.877323</td>\n",
       "      <td>0.351972</td>\n",
       "      <td>2.839456</td>\n",
       "      <td>27.072472</td>\n",
       "      <td>30.179789</td>\n",
       "      <td>0</td>\n",
       "      <td>1</td>\n",
       "    </tr>\n",
       "    <tr>\n",
       "      <th>590</th>\n",
       "      <td>FRB20190701B</td>\n",
       "      <td>0</td>\n",
       "      <td>687.6</td>\n",
       "      <td>2.95</td>\n",
       "      <td>1.10</td>\n",
       "      <td>1.90</td>\n",
       "      <td>0.000630</td>\n",
       "      <td>732.8</td>\n",
       "      <td>400.2</td>\n",
       "      <td>471.5</td>\n",
       "      <td>0.838220</td>\n",
       "      <td>566.50</td>\n",
       "      <td>1.276044e+26</td>\n",
       "      <td>36.945382</td>\n",
       "      <td>0.342723</td>\n",
       "      <td>2.786320</td>\n",
       "      <td>26.998779</td>\n",
       "      <td>30.025815</td>\n",
       "      <td>0</td>\n",
       "      <td>3</td>\n",
       "    </tr>\n",
       "    <tr>\n",
       "      <th>591</th>\n",
       "      <td>FRB20190701C</td>\n",
       "      <td>0</td>\n",
       "      <td>915.8</td>\n",
       "      <td>1.97</td>\n",
       "      <td>0.88</td>\n",
       "      <td>2.50</td>\n",
       "      <td>0.001440</td>\n",
       "      <td>495.5</td>\n",
       "      <td>402.2</td>\n",
       "      <td>446.4</td>\n",
       "      <td>1.083240</td>\n",
       "      <td>448.85</td>\n",
       "      <td>1.692618e+26</td>\n",
       "      <td>36.523671</td>\n",
       "      <td>0.691231</td>\n",
       "      <td>2.288621</td>\n",
       "      <td>27.285253</td>\n",
       "      <td>30.150535</td>\n",
       "      <td>0</td>\n",
       "      <td>4</td>\n",
       "    </tr>\n",
       "    <tr>\n",
       "      <th>592</th>\n",
       "      <td>FRB20190701D</td>\n",
       "      <td>0</td>\n",
       "      <td>877.4</td>\n",
       "      <td>8.85</td>\n",
       "      <td>1.33</td>\n",
       "      <td>8.60</td>\n",
       "      <td>0.001400</td>\n",
       "      <td>651.8</td>\n",
       "      <td>400.2</td>\n",
       "      <td>467.6</td>\n",
       "      <td>1.041637</td>\n",
       "      <td>526.00</td>\n",
       "      <td>1.620886e+26</td>\n",
       "      <td>36.560887</td>\n",
       "      <td>0.685724</td>\n",
       "      <td>2.710689</td>\n",
       "      <td>27.813109</td>\n",
       "      <td>30.312441</td>\n",
       "      <td>0</td>\n",
       "      <td>4</td>\n",
       "    </tr>\n",
       "    <tr>\n",
       "      <th>593</th>\n",
       "      <td>FRB20190701E</td>\n",
       "      <td>0</td>\n",
       "      <td>848.1</td>\n",
       "      <td>2.95</td>\n",
       "      <td>0.68</td>\n",
       "      <td>2.00</td>\n",
       "      <td>0.000420</td>\n",
       "      <td>800.2</td>\n",
       "      <td>400.2</td>\n",
       "      <td>410.3</td>\n",
       "      <td>1.009934</td>\n",
       "      <td>600.20</td>\n",
       "      <td>1.566487e+26</td>\n",
       "      <td>37.177827</td>\n",
       "      <td>0.208962</td>\n",
       "      <td>2.905242</td>\n",
       "      <td>27.100013</td>\n",
       "      <td>29.934674</td>\n",
       "      <td>0</td>\n",
       "      <td>4</td>\n",
       "    </tr>\n",
       "  </tbody>\n",
       "</table>\n",
       "<p>594 rows × 20 columns</p>\n",
       "</div>"
      ],
      "text/plain": [
       "         tns_name  repeater_name  dm_exc_ne2001  bc_width   flux  fluence  \\\n",
       "0    FRB20180725A              0          644.2      2.95   1.70     4.10   \n",
       "1    FRB20180727A              0          620.9      2.95   0.58     2.31   \n",
       "2    FRB20180729A              0           78.8      0.98  11.70    17.00   \n",
       "3    FRB20180729B              0          223.2      1.97   0.92     1.20   \n",
       "4    FRB20180730A              0          789.7      4.92   5.20    27.00   \n",
       "..            ...            ...            ...       ...    ...      ...   \n",
       "589  FRB20190701A              0          582.8      1.97   1.26     1.70   \n",
       "590  FRB20190701B              0          687.6      2.95   1.10     1.90   \n",
       "591  FRB20190701C              0          915.8      1.97   0.88     2.50   \n",
       "592  FRB20190701D              0          877.4      8.85   1.33     8.60   \n",
       "593  FRB20190701E              0          848.1      2.95   0.68     2.00   \n",
       "\n",
       "     width_fitb  high_freq  low_freq  peak_freq  redshift  mid_freq  \\\n",
       "0      0.000296      760.1     485.3      607.4  0.792216    622.70   \n",
       "1      0.001390      800.2     400.2      493.3  0.767614    600.20   \n",
       "2      0.000100      692.7     400.2      525.6  0.196666    546.45   \n",
       "3      0.000314      800.2     441.8      657.5  0.350179    621.00   \n",
       "4      0.000468      759.2     400.2      483.5  0.947129    579.70   \n",
       "..          ...        ...       ...        ...       ...       ...   \n",
       "589    0.000608      800.2     400.2      800.2  0.727410    600.20   \n",
       "590    0.000630      732.8     400.2      471.5  0.838220    566.50   \n",
       "591    0.001440      495.5     402.2      446.4  1.083240    448.85   \n",
       "592    0.001400      651.8     400.2      467.6  1.041637    526.00   \n",
       "593    0.000420      800.2     400.2      410.3  1.009934    600.20   \n",
       "\n",
       "           L_dist  bright_temp  rest_pulse_width  rest_freq_bandwidth  \\\n",
       "0    1.199517e+26    37.665667          0.165159             2.692407   \n",
       "1    1.158830e+26    35.863196          0.786371             2.849447   \n",
       "2    2.717721e+25    38.445258          0.083565             2.544099   \n",
       "3    4.978343e+25    36.709261          0.232562             2.684759   \n",
       "4    1.459413e+26    37.949804          0.240354             2.844489   \n",
       "..            ...          ...               ...                  ...   \n",
       "589  1.092710e+26    36.877323          0.351972             2.839456   \n",
       "590  1.276044e+26    36.945382          0.342723             2.786320   \n",
       "591  1.692618e+26    36.523671          0.691231             2.288621   \n",
       "592  1.620886e+26    36.560887          0.685724             2.710689   \n",
       "593  1.566487e+26    37.177827          0.208962             2.905242   \n",
       "\n",
       "     burst_energy  luminosity  kmeans  hdbscan  \n",
       "0       27.400091   30.271147       0       -1  \n",
       "1       27.036585   29.683789       1        4  \n",
       "2       26.840751   29.756461       1        3  \n",
       "3       26.260065   29.275063       1        1  \n",
       "4       28.253932   30.827966       0       -1  \n",
       "..            ...         ...     ...      ...  \n",
       "589     27.072472   30.179789       0        1  \n",
       "590     26.998779   30.025815       0        3  \n",
       "591     27.285253   30.150535       0        4  \n",
       "592     27.813109   30.312441       0        4  \n",
       "593     27.100013   29.934674       0        4  \n",
       "\n",
       "[594 rows x 20 columns]"
      ]
     },
     "execution_count": 294,
     "metadata": {},
     "output_type": "execute_result"
    }
   ],
   "source": [
    "file"
   ]
  },
  {
   "cell_type": "code",
   "execution_count": 319,
   "metadata": {},
   "outputs": [],
   "source": [
    "file.to_csv(\"output_frb_2.csv\")"
   ]
  },
  {
   "cell_type": "code",
   "execution_count": 182,
   "metadata": {},
   "outputs": [
    {
     "data": {
      "text/plain": [
       "214"
      ]
     },
     "execution_count": 182,
     "metadata": {},
     "output_type": "execute_result"
    }
   ],
   "source": [
    "len(file[(file['kmeans']==0) & (file['repeater_name']==0)])"
   ]
  },
  {
   "cell_type": "code",
   "execution_count": 183,
   "metadata": {},
   "outputs": [
    {
     "data": {
      "text/plain": [
       "3"
      ]
     },
     "execution_count": 183,
     "metadata": {},
     "output_type": "execute_result"
    }
   ],
   "source": [
    "len(file[(file['kmeans']==0) & (file['repeater_name']==1)])"
   ]
  },
  {
   "cell_type": "code",
   "execution_count": 184,
   "metadata": {},
   "outputs": [
    {
     "data": {
      "text/plain": [
       "286"
      ]
     },
     "execution_count": 184,
     "metadata": {},
     "output_type": "execute_result"
    }
   ],
   "source": [
    "len(file[(file['kmeans']==1) & (file['repeater_name']==0)])"
   ]
  },
  {
   "cell_type": "code",
   "execution_count": 185,
   "metadata": {},
   "outputs": [
    {
     "data": {
      "text/plain": [
       "91"
      ]
     },
     "execution_count": 185,
     "metadata": {},
     "output_type": "execute_result"
    }
   ],
   "source": [
    "len(file[(file['kmeans']==1) & (file['repeater_name']==1)])"
   ]
  },
  {
   "cell_type": "code",
   "execution_count": 81,
   "metadata": {},
   "outputs": [
    {
     "data": {
      "text/plain": [
       "Text(0.5, 0.92, 'purple: repeating, blue: non-repeating')"
      ]
     },
     "execution_count": 81,
     "metadata": {},
     "output_type": "execute_result"
    },
    {
     "data": {
      "image/png": "[encoded data removed]",
      "text/plain": [
       "<Figure size 720x720 with 2 Axes>"
      ]
     },
     "metadata": {
      "needs_background": "light"
     },
     "output_type": "display_data"
    }
   ],
   "source": [
    "# import relevant libraries for 3d graph\n",
    "from mpl_toolkits.mplot3d import Axes3D\n",
    "fig = plt.figure(figsize=(10,10))\n",
    " \n",
    "# choose projection 3d for creating a 3d graph\n",
    "axis = fig.add_subplot(111, projection='3d')\n",
    " \n",
    "# x[:,0]is pc1,x[:,1] is pc2 while x[:,2] is pc3\n",
    "axis.scatter(x_tr_1[:,0],x_tr_1[:,1],x_tr_1[:,2], c=file['kmeans'],cmap='cool')\n",
    "plt.colorbar(axis.scatter(x_tr_1[:,0],x_tr_1[:,1],x_tr_1[:,2], c=file['kmeans'],cmap='cool'))\n",
    "axis.set_xlabel(\"PC1\", fontsize=10)\n",
    "axis.set_ylabel(\"PC2\", fontsize=10)\n",
    "axis.set_zlabel(\"PC3\", fontsize=10)\n",
    "\n",
    "axis.set_title('purple: repeating, blue: non-repeating')"
   ]
  },
  {
   "cell_type": "markdown",
   "metadata": {},
   "source": [
    "x---------x"
   ]
  },
  {
   "cell_type": "code",
   "execution_count": 295,
   "metadata": {},
   "outputs": [
    {
     "data": {
      "text/plain": [
       "111"
      ]
     },
     "execution_count": 295,
     "metadata": {},
     "output_type": "execute_result"
    }
   ],
   "source": [
    "len(file[(file['hdbscan']==-1) & (file['repeater_name']==0)])"
   ]
  },
  {
   "cell_type": "code",
   "execution_count": 296,
   "metadata": {},
   "outputs": [
    {
     "data": {
      "text/plain": [
       "34"
      ]
     },
     "execution_count": 296,
     "metadata": {},
     "output_type": "execute_result"
    }
   ],
   "source": [
    "len(file[(file['hdbscan']==-1) & (file['repeater_name']==1)])"
   ]
  },
  {
   "cell_type": "code",
   "execution_count": 297,
   "metadata": {},
   "outputs": [
    {
     "data": {
      "text/plain": [
       "117"
      ]
     },
     "execution_count": 297,
     "metadata": {},
     "output_type": "execute_result"
    }
   ],
   "source": [
    "len(file[(file['hdbscan']==0) & (file['repeater_name']==0)])"
   ]
  },
  {
   "cell_type": "code",
   "execution_count": 298,
   "metadata": {},
   "outputs": [
    {
     "data": {
      "text/plain": [
       "24"
      ]
     },
     "execution_count": 298,
     "metadata": {},
     "output_type": "execute_result"
    }
   ],
   "source": [
    "len(file[(file['hdbscan']==0) & (file['repeater_name']==1)])"
   ]
  },
  {
   "cell_type": "code",
   "execution_count": 299,
   "metadata": {},
   "outputs": [
    {
     "data": {
      "text/plain": [
       "64"
      ]
     },
     "execution_count": 299,
     "metadata": {},
     "output_type": "execute_result"
    }
   ],
   "source": [
    "len(file[(file['hdbscan']==1) & (file['repeater_name']==0)])"
   ]
  },
  {
   "cell_type": "code",
   "execution_count": 300,
   "metadata": {},
   "outputs": [
    {
     "data": {
      "text/plain": [
       "32"
      ]
     },
     "execution_count": 300,
     "metadata": {},
     "output_type": "execute_result"
    }
   ],
   "source": [
    "len(file[(file['hdbscan']==1) & (file['repeater_name']==1)])"
   ]
  },
  {
   "cell_type": "code",
   "execution_count": 301,
   "metadata": {},
   "outputs": [
    {
     "data": {
      "text/plain": [
       "44"
      ]
     },
     "execution_count": 301,
     "metadata": {},
     "output_type": "execute_result"
    }
   ],
   "source": [
    "len(file[(file['hdbscan']==2) & (file['repeater_name']==0)])"
   ]
  },
  {
   "cell_type": "code",
   "execution_count": 302,
   "metadata": {},
   "outputs": [
    {
     "data": {
      "text/plain": [
       "0"
      ]
     },
     "execution_count": 302,
     "metadata": {},
     "output_type": "execute_result"
    }
   ],
   "source": [
    "len(file[(file['hdbscan']==2) & (file['repeater_name']==1)])"
   ]
  },
  {
   "cell_type": "code",
   "execution_count": 303,
   "metadata": {},
   "outputs": [
    {
     "data": {
      "text/plain": [
       "49"
      ]
     },
     "execution_count": 303,
     "metadata": {},
     "output_type": "execute_result"
    }
   ],
   "source": [
    "len(file[(file['hdbscan']==3) & (file['repeater_name']==0)])"
   ]
  },
  {
   "cell_type": "code",
   "execution_count": 304,
   "metadata": {},
   "outputs": [
    {
     "data": {
      "text/plain": [
       "0"
      ]
     },
     "execution_count": 304,
     "metadata": {},
     "output_type": "execute_result"
    }
   ],
   "source": [
    "len(file[(file['hdbscan']==3) & (file['repeater_name']==1)])"
   ]
  },
  {
   "cell_type": "code",
   "execution_count": 305,
   "metadata": {},
   "outputs": [
    {
     "data": {
      "text/plain": [
       "115"
      ]
     },
     "execution_count": 305,
     "metadata": {},
     "output_type": "execute_result"
    }
   ],
   "source": [
    "len(file[(file['hdbscan']==4) & (file['repeater_name']==0)])"
   ]
  },
  {
   "cell_type": "code",
   "execution_count": 306,
   "metadata": {},
   "outputs": [
    {
     "data": {
      "text/plain": [
       "4"
      ]
     },
     "execution_count": 306,
     "metadata": {},
     "output_type": "execute_result"
    }
   ],
   "source": [
    "len(file[(file['hdbscan']==4) & (file['repeater_name']==1)])"
   ]
  },
  {
   "cell_type": "code",
   "execution_count": null,
   "metadata": {},
   "outputs": [],
   "source": [
    "non:3,2,\n",
    "others:4\n",
    "rep:-1,1,0"
   ]
  },
  {
   "cell_type": "code",
   "execution_count": 345,
   "metadata": {},
   "outputs": [],
   "source": [
    "file['hdbscan'].mask(file['hdbscan'] == -1, 'repeating', inplace=True)\n",
    "file['hdbscan'].mask(file['hdbscan'] == 0, 'repeating', inplace=True)\n",
    "file['hdbscan'].mask(file['hdbscan'] == 1, 'repeating', inplace=True)\n",
    "file['hdbscan'].mask(file['hdbscan'] == 2, 'non_repeating', inplace=True)\n",
    "file['hdbscan'].mask(file['hdbscan'] == 3, 'non_repeating', inplace=True)\n",
    "file['hdbscan'].mask(file['hdbscan'] == 4, 'others', inplace=True)"
   ]
  },
  {
   "cell_type": "code",
   "execution_count": 376,
   "metadata": {},
   "outputs": [],
   "source": [
    "file2['kmeans'].mask(file2['kmeans']==1,'repeating',inplace=True)\n",
    "file2['kmeans'].mask(file2['kmeans']==0,'non_repeating',inplace=True)"
   ]
  },
  {
   "cell_type": "code",
   "execution_count": 378,
   "metadata": {},
   "outputs": [],
   "source": [
    "file2['hdbscan'].mask(file2['hdbscan'] == -1, 'repeating', inplace=True)\n",
    "file2['hdbscan'].mask(file2['hdbscan'] == 0, 'repeating', inplace=True)\n",
    "file2['hdbscan'].mask(file2['hdbscan'] == 1, 'repeating', inplace=True)\n",
    "file2['hdbscan'].mask(file2['hdbscan'] == 2, 'non_repeating', inplace=True)\n",
    "file2['hdbscan'].mask(file2['hdbscan'] == 3, 'non_repeating', inplace=True)\n",
    "file2['hdbscan'].mask(file2['hdbscan'] == 4, 'others', inplace=True)"
   ]
  },
  {
   "cell_type": "code",
   "execution_count": 380,
   "metadata": {},
   "outputs": [],
   "source": [
    "file2.to_csv('frb2_finel_output.csv')"
   ]
  },
  {
   "cell_type": "code",
   "execution_count": 359,
   "metadata": {},
   "outputs": [],
   "source": [
    "file['pc1']=x_tr_2[:,0]\n",
    "file['pc2']=x_tr_2[:,1]"
   ]
  },
  {
   "cell_type": "code",
   "execution_count": 360,
   "metadata": {},
   "outputs": [
    {
     "data": {
      "text/html": [
       "<div>\n",
       "<style scoped>\n",
       "    .dataframe tbody tr th:only-of-type {\n",
       "        vertical-align: middle;\n",
       "    }\n",
       "\n",
       "    .dataframe tbody tr th {\n",
       "        vertical-align: top;\n",
       "    }\n",
       "\n",
       "    .dataframe thead th {\n",
       "        text-align: right;\n",
       "    }\n",
       "</style>\n",
       "<table border=\"1\" class=\"dataframe\">\n",
       "  <thead>\n",
       "    <tr style=\"text-align: right;\">\n",
       "      <th></th>\n",
       "      <th>tns_name</th>\n",
       "      <th>repeater_name</th>\n",
       "      <th>dm_exc_ne2001</th>\n",
       "      <th>bc_width</th>\n",
       "      <th>flux</th>\n",
       "      <th>fluence</th>\n",
       "      <th>width_fitb</th>\n",
       "      <th>high_freq</th>\n",
       "      <th>low_freq</th>\n",
       "      <th>peak_freq</th>\n",
       "      <th>...</th>\n",
       "      <th>L_dist</th>\n",
       "      <th>bright_temp</th>\n",
       "      <th>rest_pulse_width</th>\n",
       "      <th>rest_freq_bandwidth</th>\n",
       "      <th>burst_energy</th>\n",
       "      <th>luminosity</th>\n",
       "      <th>kmeans</th>\n",
       "      <th>hdbscan</th>\n",
       "      <th>pc1</th>\n",
       "      <th>pc2</th>\n",
       "    </tr>\n",
       "  </thead>\n",
       "  <tbody>\n",
       "    <tr>\n",
       "      <th>0</th>\n",
       "      <td>FRB20180725A</td>\n",
       "      <td>0</td>\n",
       "      <td>644.2</td>\n",
       "      <td>2.95</td>\n",
       "      <td>1.70</td>\n",
       "      <td>4.10</td>\n",
       "      <td>0.000296</td>\n",
       "      <td>760.1</td>\n",
       "      <td>485.3</td>\n",
       "      <td>607.4</td>\n",
       "      <td>...</td>\n",
       "      <td>1.199517e+26</td>\n",
       "      <td>37.665667</td>\n",
       "      <td>0.165159</td>\n",
       "      <td>2.692407</td>\n",
       "      <td>27.400091</td>\n",
       "      <td>30.271147</td>\n",
       "      <td>0</td>\n",
       "      <td>-1</td>\n",
       "      <td>8.588955</td>\n",
       "      <td>-9.362112</td>\n",
       "    </tr>\n",
       "    <tr>\n",
       "      <th>1</th>\n",
       "      <td>FRB20180727A</td>\n",
       "      <td>0</td>\n",
       "      <td>620.9</td>\n",
       "      <td>2.95</td>\n",
       "      <td>0.58</td>\n",
       "      <td>2.31</td>\n",
       "      <td>0.001390</td>\n",
       "      <td>800.2</td>\n",
       "      <td>400.2</td>\n",
       "      <td>493.3</td>\n",
       "      <td>...</td>\n",
       "      <td>1.158830e+26</td>\n",
       "      <td>35.863196</td>\n",
       "      <td>0.786371</td>\n",
       "      <td>2.849447</td>\n",
       "      <td>27.036585</td>\n",
       "      <td>29.683789</td>\n",
       "      <td>1</td>\n",
       "      <td>4</td>\n",
       "      <td>7.557559</td>\n",
       "      <td>5.943826</td>\n",
       "    </tr>\n",
       "    <tr>\n",
       "      <th>2</th>\n",
       "      <td>FRB20180729A</td>\n",
       "      <td>0</td>\n",
       "      <td>78.8</td>\n",
       "      <td>0.98</td>\n",
       "      <td>11.70</td>\n",
       "      <td>17.00</td>\n",
       "      <td>0.000100</td>\n",
       "      <td>692.7</td>\n",
       "      <td>400.2</td>\n",
       "      <td>525.6</td>\n",
       "      <td>...</td>\n",
       "      <td>2.717721e+25</td>\n",
       "      <td>38.445258</td>\n",
       "      <td>0.083565</td>\n",
       "      <td>2.544099</td>\n",
       "      <td>26.840751</td>\n",
       "      <td>29.756461</td>\n",
       "      <td>1</td>\n",
       "      <td>3</td>\n",
       "      <td>3.085840</td>\n",
       "      <td>-22.634439</td>\n",
       "    </tr>\n",
       "    <tr>\n",
       "      <th>3</th>\n",
       "      <td>FRB20180729B</td>\n",
       "      <td>0</td>\n",
       "      <td>223.2</td>\n",
       "      <td>1.97</td>\n",
       "      <td>0.92</td>\n",
       "      <td>1.20</td>\n",
       "      <td>0.000314</td>\n",
       "      <td>800.2</td>\n",
       "      <td>441.8</td>\n",
       "      <td>657.5</td>\n",
       "      <td>...</td>\n",
       "      <td>4.978343e+25</td>\n",
       "      <td>36.709261</td>\n",
       "      <td>0.232562</td>\n",
       "      <td>2.684759</td>\n",
       "      <td>26.260065</td>\n",
       "      <td>29.275063</td>\n",
       "      <td>1</td>\n",
       "      <td>1</td>\n",
       "      <td>-8.075387</td>\n",
       "      <td>4.187779</td>\n",
       "    </tr>\n",
       "    <tr>\n",
       "      <th>4</th>\n",
       "      <td>FRB20180730A</td>\n",
       "      <td>0</td>\n",
       "      <td>789.7</td>\n",
       "      <td>4.92</td>\n",
       "      <td>5.20</td>\n",
       "      <td>27.00</td>\n",
       "      <td>0.000468</td>\n",
       "      <td>759.2</td>\n",
       "      <td>400.2</td>\n",
       "      <td>483.5</td>\n",
       "      <td>...</td>\n",
       "      <td>1.459413e+26</td>\n",
       "      <td>37.949804</td>\n",
       "      <td>0.240354</td>\n",
       "      <td>2.844489</td>\n",
       "      <td>28.253932</td>\n",
       "      <td>30.827966</td>\n",
       "      <td>0</td>\n",
       "      <td>-1</td>\n",
       "      <td>10.920242</td>\n",
       "      <td>-17.192406</td>\n",
       "    </tr>\n",
       "    <tr>\n",
       "      <th>...</th>\n",
       "      <td>...</td>\n",
       "      <td>...</td>\n",
       "      <td>...</td>\n",
       "      <td>...</td>\n",
       "      <td>...</td>\n",
       "      <td>...</td>\n",
       "      <td>...</td>\n",
       "      <td>...</td>\n",
       "      <td>...</td>\n",
       "      <td>...</td>\n",
       "      <td>...</td>\n",
       "      <td>...</td>\n",
       "      <td>...</td>\n",
       "      <td>...</td>\n",
       "      <td>...</td>\n",
       "      <td>...</td>\n",
       "      <td>...</td>\n",
       "      <td>...</td>\n",
       "      <td>...</td>\n",
       "      <td>...</td>\n",
       "      <td>...</td>\n",
       "    </tr>\n",
       "    <tr>\n",
       "      <th>589</th>\n",
       "      <td>FRB20190701A</td>\n",
       "      <td>0</td>\n",
       "      <td>582.8</td>\n",
       "      <td>1.97</td>\n",
       "      <td>1.26</td>\n",
       "      <td>1.70</td>\n",
       "      <td>0.000608</td>\n",
       "      <td>800.2</td>\n",
       "      <td>400.2</td>\n",
       "      <td>800.2</td>\n",
       "      <td>...</td>\n",
       "      <td>1.092710e+26</td>\n",
       "      <td>36.877323</td>\n",
       "      <td>0.351972</td>\n",
       "      <td>2.839456</td>\n",
       "      <td>27.072472</td>\n",
       "      <td>30.179789</td>\n",
       "      <td>0</td>\n",
       "      <td>1</td>\n",
       "      <td>-0.693149</td>\n",
       "      <td>3.016088</td>\n",
       "    </tr>\n",
       "    <tr>\n",
       "      <th>590</th>\n",
       "      <td>FRB20190701B</td>\n",
       "      <td>0</td>\n",
       "      <td>687.6</td>\n",
       "      <td>2.95</td>\n",
       "      <td>1.10</td>\n",
       "      <td>1.90</td>\n",
       "      <td>0.000630</td>\n",
       "      <td>732.8</td>\n",
       "      <td>400.2</td>\n",
       "      <td>471.5</td>\n",
       "      <td>...</td>\n",
       "      <td>1.276044e+26</td>\n",
       "      <td>36.945382</td>\n",
       "      <td>0.342723</td>\n",
       "      <td>2.786320</td>\n",
       "      <td>26.998779</td>\n",
       "      <td>30.025815</td>\n",
       "      <td>0</td>\n",
       "      <td>3</td>\n",
       "      <td>10.556457</td>\n",
       "      <td>-5.224068</td>\n",
       "    </tr>\n",
       "    <tr>\n",
       "      <th>591</th>\n",
       "      <td>FRB20190701C</td>\n",
       "      <td>0</td>\n",
       "      <td>915.8</td>\n",
       "      <td>1.97</td>\n",
       "      <td>0.88</td>\n",
       "      <td>2.50</td>\n",
       "      <td>0.001440</td>\n",
       "      <td>495.5</td>\n",
       "      <td>402.2</td>\n",
       "      <td>446.4</td>\n",
       "      <td>...</td>\n",
       "      <td>1.692618e+26</td>\n",
       "      <td>36.523671</td>\n",
       "      <td>0.691231</td>\n",
       "      <td>2.288621</td>\n",
       "      <td>27.285253</td>\n",
       "      <td>30.150535</td>\n",
       "      <td>0</td>\n",
       "      <td>4</td>\n",
       "      <td>13.406845</td>\n",
       "      <td>-1.767762</td>\n",
       "    </tr>\n",
       "    <tr>\n",
       "      <th>592</th>\n",
       "      <td>FRB20190701D</td>\n",
       "      <td>0</td>\n",
       "      <td>877.4</td>\n",
       "      <td>8.85</td>\n",
       "      <td>1.33</td>\n",
       "      <td>8.60</td>\n",
       "      <td>0.001400</td>\n",
       "      <td>651.8</td>\n",
       "      <td>400.2</td>\n",
       "      <td>467.6</td>\n",
       "      <td>...</td>\n",
       "      <td>1.620886e+26</td>\n",
       "      <td>36.560887</td>\n",
       "      <td>0.685724</td>\n",
       "      <td>2.710689</td>\n",
       "      <td>27.813109</td>\n",
       "      <td>30.312441</td>\n",
       "      <td>0</td>\n",
       "      <td>4</td>\n",
       "      <td>19.816984</td>\n",
       "      <td>-9.188779</td>\n",
       "    </tr>\n",
       "    <tr>\n",
       "      <th>593</th>\n",
       "      <td>FRB20190701E</td>\n",
       "      <td>0</td>\n",
       "      <td>848.1</td>\n",
       "      <td>2.95</td>\n",
       "      <td>0.68</td>\n",
       "      <td>2.00</td>\n",
       "      <td>0.000420</td>\n",
       "      <td>800.2</td>\n",
       "      <td>400.2</td>\n",
       "      <td>410.3</td>\n",
       "      <td>...</td>\n",
       "      <td>1.566487e+26</td>\n",
       "      <td>37.177827</td>\n",
       "      <td>0.208962</td>\n",
       "      <td>2.905242</td>\n",
       "      <td>27.100013</td>\n",
       "      <td>29.934674</td>\n",
       "      <td>0</td>\n",
       "      <td>4</td>\n",
       "      <td>16.680874</td>\n",
       "      <td>2.061905</td>\n",
       "    </tr>\n",
       "  </tbody>\n",
       "</table>\n",
       "<p>594 rows × 22 columns</p>\n",
       "</div>"
      ],
      "text/plain": [
       "         tns_name  repeater_name  dm_exc_ne2001  bc_width   flux  fluence  \\\n",
       "0    FRB20180725A              0          644.2      2.95   1.70     4.10   \n",
       "1    FRB20180727A              0          620.9      2.95   0.58     2.31   \n",
       "2    FRB20180729A              0           78.8      0.98  11.70    17.00   \n",
       "3    FRB20180729B              0          223.2      1.97   0.92     1.20   \n",
       "4    FRB20180730A              0          789.7      4.92   5.20    27.00   \n",
       "..            ...            ...            ...       ...    ...      ...   \n",
       "589  FRB20190701A              0          582.8      1.97   1.26     1.70   \n",
       "590  FRB20190701B              0          687.6      2.95   1.10     1.90   \n",
       "591  FRB20190701C              0          915.8      1.97   0.88     2.50   \n",
       "592  FRB20190701D              0          877.4      8.85   1.33     8.60   \n",
       "593  FRB20190701E              0          848.1      2.95   0.68     2.00   \n",
       "\n",
       "     width_fitb  high_freq  low_freq  peak_freq  ...        L_dist  \\\n",
       "0      0.000296      760.1     485.3      607.4  ...  1.199517e+26   \n",
       "1      0.001390      800.2     400.2      493.3  ...  1.158830e+26   \n",
       "2      0.000100      692.7     400.2      525.6  ...  2.717721e+25   \n",
       "3      0.000314      800.2     441.8      657.5  ...  4.978343e+25   \n",
       "4      0.000468      759.2     400.2      483.5  ...  1.459413e+26   \n",
       "..          ...        ...       ...        ...  ...           ...   \n",
       "589    0.000608      800.2     400.2      800.2  ...  1.092710e+26   \n",
       "590    0.000630      732.8     400.2      471.5  ...  1.276044e+26   \n",
       "591    0.001440      495.5     402.2      446.4  ...  1.692618e+26   \n",
       "592    0.001400      651.8     400.2      467.6  ...  1.620886e+26   \n",
       "593    0.000420      800.2     400.2      410.3  ...  1.566487e+26   \n",
       "\n",
       "     bright_temp  rest_pulse_width  rest_freq_bandwidth  burst_energy  \\\n",
       "0      37.665667          0.165159             2.692407     27.400091   \n",
       "1      35.863196          0.786371             2.849447     27.036585   \n",
       "2      38.445258          0.083565             2.544099     26.840751   \n",
       "3      36.709261          0.232562             2.684759     26.260065   \n",
       "4      37.949804          0.240354             2.844489     28.253932   \n",
       "..           ...               ...                  ...           ...   \n",
       "589    36.877323          0.351972             2.839456     27.072472   \n",
       "590    36.945382          0.342723             2.786320     26.998779   \n",
       "591    36.523671          0.691231             2.288621     27.285253   \n",
       "592    36.560887          0.685724             2.710689     27.813109   \n",
       "593    37.177827          0.208962             2.905242     27.100013   \n",
       "\n",
       "     luminosity  kmeans  hdbscan        pc1        pc2  \n",
       "0     30.271147       0       -1   8.588955  -9.362112  \n",
       "1     29.683789       1        4   7.557559   5.943826  \n",
       "2     29.756461       1        3   3.085840 -22.634439  \n",
       "3     29.275063       1        1  -8.075387   4.187779  \n",
       "4     30.827966       0       -1  10.920242 -17.192406  \n",
       "..          ...     ...      ...        ...        ...  \n",
       "589   30.179789       0        1  -0.693149   3.016088  \n",
       "590   30.025815       0        3  10.556457  -5.224068  \n",
       "591   30.150535       0        4  13.406845  -1.767762  \n",
       "592   30.312441       0        4  19.816984  -9.188779  \n",
       "593   29.934674       0        4  16.680874   2.061905  \n",
       "\n",
       "[594 rows x 22 columns]"
      ]
     },
     "execution_count": 360,
     "metadata": {},
     "output_type": "execute_result"
    }
   ],
   "source": [
    "file"
   ]
  },
  {
   "cell_type": "code",
   "execution_count": 372,
   "metadata": {},
   "outputs": [
    {
     "data": {
      "text/plain": [
       "<matplotlib.legend.Legend at 0x7f2c305227a0>"
      ]
     },
     "execution_count": 372,
     "metadata": {},
     "output_type": "execute_result"
    },
    {
     "data": {
      "image/png": "[encoded data removed]",
      "text/plain": [
       "<Figure size 792x576 with 1 Axes>"
      ]
     },
     "metadata": {
      "needs_background": "light"
     },
     "output_type": "display_data"
    }
   ],
   "source": [
    "plt.figure(figsize=(11,8))\n",
    "plt.scatter(file[file['hdbscan']==4]['pc1'],file[file['hdbscan']==4]['pc2'],color='blue',label='others')\n",
    "plt.scatter(file[file['hdbscan']==-1]['pc1'],file[file['hdbscan']==-1]['pc2'],color='red',label='repeating')\n",
    "plt.scatter(file[file['hdbscan']==0]['pc1'],file[file['hdbscan']==0]['pc2'],color='orange',label='repeating')\n",
    "plt.scatter(file[file['hdbscan']==1]['pc1'],file[file['hdbscan']==1]['pc2'],color='brown',label='repeating')\n",
    "plt.scatter(file[file['hdbscan']==2]['pc1'],file[file['hdbscan']==2]['pc2'],color='green',label='non repeating')\n",
    "plt.scatter(file[file['hdbscan']==3]['pc1'],file[file['hdbscan']==3]['pc2'],color='black',label='non repeating')\n",
    "plt.legend()"
   ]
  },
  {
   "cell_type": "markdown",
   "metadata": {},
   "source": [
    "xxxxxxxxxxxxxxxxxxxxxxxxxxxx"
   ]
  },
  {
   "cell_type": "code",
   "execution_count": 23,
   "metadata": {},
   "outputs": [],
   "source": [
    "file=pd.read_csv('frb2_finel_output.csv')"
   ]
  },
  {
   "cell_type": "code",
   "execution_count": 25,
   "metadata": {},
   "outputs": [
    {
     "data": {
      "text/html": [
       "<div>\n",
       "<style scoped>\n",
       "    .dataframe tbody tr th:only-of-type {\n",
       "        vertical-align: middle;\n",
       "    }\n",
       "\n",
       "    .dataframe tbody tr th {\n",
       "        vertical-align: top;\n",
       "    }\n",
       "\n",
       "    .dataframe thead th {\n",
       "        text-align: right;\n",
       "    }\n",
       "</style>\n",
       "<table border=\"1\" class=\"dataframe\">\n",
       "  <thead>\n",
       "    <tr style=\"text-align: right;\">\n",
       "      <th></th>\n",
       "      <th>tns_name</th>\n",
       "      <th>repeater_name</th>\n",
       "      <th>dm_exc_ne2001</th>\n",
       "      <th>bc_width</th>\n",
       "      <th>flux</th>\n",
       "      <th>fluence</th>\n",
       "      <th>width_fitb</th>\n",
       "      <th>high_freq</th>\n",
       "      <th>low_freq</th>\n",
       "      <th>peak_freq</th>\n",
       "      <th>redshift</th>\n",
       "      <th>mid_freq</th>\n",
       "      <th>L_dist</th>\n",
       "      <th>bright_temp</th>\n",
       "      <th>rest_pulse_width</th>\n",
       "      <th>rest_freq_bandwidth</th>\n",
       "      <th>burst_energy</th>\n",
       "      <th>luminosity</th>\n",
       "      <th>kmeans</th>\n",
       "      <th>hdbscan</th>\n",
       "    </tr>\n",
       "  </thead>\n",
       "  <tbody>\n",
       "    <tr>\n",
       "      <th>3</th>\n",
       "      <td>FRB20180729B</td>\n",
       "      <td>0</td>\n",
       "      <td>223.2</td>\n",
       "      <td>1.97</td>\n",
       "      <td>0.92</td>\n",
       "      <td>1.20</td>\n",
       "      <td>0.000314</td>\n",
       "      <td>800.2</td>\n",
       "      <td>441.8</td>\n",
       "      <td>657.5</td>\n",
       "      <td>0.350179</td>\n",
       "      <td>621.00</td>\n",
       "      <td>4.978343e+25</td>\n",
       "      <td>36.709261</td>\n",
       "      <td>0.232562</td>\n",
       "      <td>2.684759</td>\n",
       "      <td>26.260065</td>\n",
       "      <td>29.275063</td>\n",
       "      <td>repeating</td>\n",
       "      <td>repeating</td>\n",
       "    </tr>\n",
       "    <tr>\n",
       "      <th>7</th>\n",
       "      <td>FRB20180810A</td>\n",
       "      <td>0</td>\n",
       "      <td>310.2</td>\n",
       "      <td>1.97</td>\n",
       "      <td>1.10</td>\n",
       "      <td>1.70</td>\n",
       "      <td>0.000322</td>\n",
       "      <td>800.2</td>\n",
       "      <td>400.2</td>\n",
       "      <td>552.9</td>\n",
       "      <td>0.441687</td>\n",
       "      <td>600.20</td>\n",
       "      <td>6.374373e+25</td>\n",
       "      <td>36.980830</td>\n",
       "      <td>0.223350</td>\n",
       "      <td>2.760931</td>\n",
       "      <td>26.522309</td>\n",
       "      <td>29.492124</td>\n",
       "      <td>repeating</td>\n",
       "      <td>repeating</td>\n",
       "    </tr>\n",
       "    <tr>\n",
       "      <th>8</th>\n",
       "      <td>FRB20180810B</td>\n",
       "      <td>0</td>\n",
       "      <td>123.3</td>\n",
       "      <td>0.98</td>\n",
       "      <td>5.20</td>\n",
       "      <td>7.90</td>\n",
       "      <td>0.000311</td>\n",
       "      <td>778.6</td>\n",
       "      <td>400.2</td>\n",
       "      <td>400.2</td>\n",
       "      <td>0.244370</td>\n",
       "      <td>589.40</td>\n",
       "      <td>3.408446e+25</td>\n",
       "      <td>37.221562</td>\n",
       "      <td>0.249926</td>\n",
       "      <td>2.672901</td>\n",
       "      <td>26.569277</td>\n",
       "      <td>29.482603</td>\n",
       "      <td>repeating</td>\n",
       "      <td>repeating</td>\n",
       "    </tr>\n",
       "    <tr>\n",
       "      <th>10</th>\n",
       "      <td>FRB20180814B</td>\n",
       "      <td>0</td>\n",
       "      <td>197.2</td>\n",
       "      <td>5.90</td>\n",
       "      <td>3.40</td>\n",
       "      <td>10.60</td>\n",
       "      <td>0.000764</td>\n",
       "      <td>800.2</td>\n",
       "      <td>400.2</td>\n",
       "      <td>800.2</td>\n",
       "      <td>0.322777</td>\n",
       "      <td>600.20</td>\n",
       "      <td>4.567009e+25</td>\n",
       "      <td>36.468214</td>\n",
       "      <td>0.577573</td>\n",
       "      <td>2.723547</td>\n",
       "      <td>27.225491</td>\n",
       "      <td>29.853151</td>\n",
       "      <td>repeating</td>\n",
       "      <td>repeating</td>\n",
       "    </tr>\n",
       "    <tr>\n",
       "      <th>11</th>\n",
       "      <td>FRB20180814B</td>\n",
       "      <td>0</td>\n",
       "      <td>197.2</td>\n",
       "      <td>5.90</td>\n",
       "      <td>3.40</td>\n",
       "      <td>10.60</td>\n",
       "      <td>0.000830</td>\n",
       "      <td>800.2</td>\n",
       "      <td>400.2</td>\n",
       "      <td>800.2</td>\n",
       "      <td>0.322777</td>\n",
       "      <td>600.20</td>\n",
       "      <td>4.567009e+25</td>\n",
       "      <td>36.396245</td>\n",
       "      <td>0.627468</td>\n",
       "      <td>2.723547</td>\n",
       "      <td>27.225491</td>\n",
       "      <td>29.853151</td>\n",
       "      <td>repeating</td>\n",
       "      <td>repeating</td>\n",
       "    </tr>\n",
       "    <tr>\n",
       "      <th>...</th>\n",
       "      <td>...</td>\n",
       "      <td>...</td>\n",
       "      <td>...</td>\n",
       "      <td>...</td>\n",
       "      <td>...</td>\n",
       "      <td>...</td>\n",
       "      <td>...</td>\n",
       "      <td>...</td>\n",
       "      <td>...</td>\n",
       "      <td>...</td>\n",
       "      <td>...</td>\n",
       "      <td>...</td>\n",
       "      <td>...</td>\n",
       "      <td>...</td>\n",
       "      <td>...</td>\n",
       "      <td>...</td>\n",
       "      <td>...</td>\n",
       "      <td>...</td>\n",
       "      <td>...</td>\n",
       "      <td>...</td>\n",
       "    </tr>\n",
       "    <tr>\n",
       "      <th>570</th>\n",
       "      <td>FRB20190625A</td>\n",
       "      <td>0</td>\n",
       "      <td>279.0</td>\n",
       "      <td>58.00</td>\n",
       "      <td>0.35</td>\n",
       "      <td>11.90</td>\n",
       "      <td>0.003920</td>\n",
       "      <td>639.7</td>\n",
       "      <td>400.2</td>\n",
       "      <td>400.2</td>\n",
       "      <td>0.408884</td>\n",
       "      <td>519.95</td>\n",
       "      <td>5.870095e+25</td>\n",
       "      <td>34.375725</td>\n",
       "      <td>2.782344</td>\n",
       "      <td>2.528181</td>\n",
       "      <td>27.165449</td>\n",
       "      <td>28.782845</td>\n",
       "      <td>repeating</td>\n",
       "      <td>repeating</td>\n",
       "    </tr>\n",
       "    <tr>\n",
       "      <th>574</th>\n",
       "      <td>FRB20190625C</td>\n",
       "      <td>0</td>\n",
       "      <td>366.1</td>\n",
       "      <td>0.98</td>\n",
       "      <td>2.22</td>\n",
       "      <td>4.02</td>\n",
       "      <td>0.000547</td>\n",
       "      <td>768.7</td>\n",
       "      <td>400.2</td>\n",
       "      <td>410.7</td>\n",
       "      <td>0.500192</td>\n",
       "      <td>584.45</td>\n",
       "      <td>7.283889e+25</td>\n",
       "      <td>36.947200</td>\n",
       "      <td>0.364620</td>\n",
       "      <td>2.742584</td>\n",
       "      <td>26.865541</td>\n",
       "      <td>29.783814</td>\n",
       "      <td>repeating</td>\n",
       "      <td>repeating</td>\n",
       "    </tr>\n",
       "    <tr>\n",
       "      <th>577</th>\n",
       "      <td>FRB20190627A</td>\n",
       "      <td>0</td>\n",
       "      <td>373.9</td>\n",
       "      <td>1.97</td>\n",
       "      <td>1.98</td>\n",
       "      <td>2.62</td>\n",
       "      <td>0.000663</td>\n",
       "      <td>634.6</td>\n",
       "      <td>400.2</td>\n",
       "      <td>474.6</td>\n",
       "      <td>0.508392</td>\n",
       "      <td>517.40</td>\n",
       "      <td>7.412378e+25</td>\n",
       "      <td>36.849123</td>\n",
       "      <td>0.439541</td>\n",
       "      <td>2.548472</td>\n",
       "      <td>26.755240</td>\n",
       "      <td>29.812118</td>\n",
       "      <td>repeating</td>\n",
       "      <td>repeating</td>\n",
       "    </tr>\n",
       "    <tr>\n",
       "      <th>582</th>\n",
       "      <td>FRB20190628B</td>\n",
       "      <td>0</td>\n",
       "      <td>361.5</td>\n",
       "      <td>2.95</td>\n",
       "      <td>0.75</td>\n",
       "      <td>1.39</td>\n",
       "      <td>0.000270</td>\n",
       "      <td>583.5</td>\n",
       "      <td>400.2</td>\n",
       "      <td>400.2</td>\n",
       "      <td>0.495391</td>\n",
       "      <td>491.85</td>\n",
       "      <td>7.208788e+25</td>\n",
       "      <td>37.231375</td>\n",
       "      <td>0.180555</td>\n",
       "      <td>2.437917</td>\n",
       "      <td>26.385472</td>\n",
       "      <td>29.292273</td>\n",
       "      <td>repeating</td>\n",
       "      <td>repeating</td>\n",
       "    </tr>\n",
       "    <tr>\n",
       "      <th>588</th>\n",
       "      <td>FRB20190630D</td>\n",
       "      <td>0</td>\n",
       "      <td>279.8</td>\n",
       "      <td>1.97</td>\n",
       "      <td>1.73</td>\n",
       "      <td>2.60</td>\n",
       "      <td>0.000555</td>\n",
       "      <td>780.6</td>\n",
       "      <td>400.2</td>\n",
       "      <td>400.2</td>\n",
       "      <td>0.409784</td>\n",
       "      <td>590.40</td>\n",
       "      <td>5.883875e+25</td>\n",
       "      <td>36.659079</td>\n",
       "      <td>0.393677</td>\n",
       "      <td>2.729393</td>\n",
       "      <td>26.506635</td>\n",
       "      <td>29.478860</td>\n",
       "      <td>repeating</td>\n",
       "      <td>repeating</td>\n",
       "    </tr>\n",
       "  </tbody>\n",
       "</table>\n",
       "<p>232 rows × 20 columns</p>\n",
       "</div>"
      ],
      "text/plain": [
       "         tns_name  repeater_name  dm_exc_ne2001  bc_width  flux  fluence  \\\n",
       "3    FRB20180729B              0          223.2      1.97  0.92     1.20   \n",
       "7    FRB20180810A              0          310.2      1.97  1.10     1.70   \n",
       "8    FRB20180810B              0          123.3      0.98  5.20     7.90   \n",
       "10   FRB20180814B              0          197.2      5.90  3.40    10.60   \n",
       "11   FRB20180814B              0          197.2      5.90  3.40    10.60   \n",
       "..            ...            ...            ...       ...   ...      ...   \n",
       "570  FRB20190625A              0          279.0     58.00  0.35    11.90   \n",
       "574  FRB20190625C              0          366.1      0.98  2.22     4.02   \n",
       "577  FRB20190627A              0          373.9      1.97  1.98     2.62   \n",
       "582  FRB20190628B              0          361.5      2.95  0.75     1.39   \n",
       "588  FRB20190630D              0          279.8      1.97  1.73     2.60   \n",
       "\n",
       "     width_fitb  high_freq  low_freq  peak_freq  redshift  mid_freq  \\\n",
       "3      0.000314      800.2     441.8      657.5  0.350179    621.00   \n",
       "7      0.000322      800.2     400.2      552.9  0.441687    600.20   \n",
       "8      0.000311      778.6     400.2      400.2  0.244370    589.40   \n",
       "10     0.000764      800.2     400.2      800.2  0.322777    600.20   \n",
       "11     0.000830      800.2     400.2      800.2  0.322777    600.20   \n",
       "..          ...        ...       ...        ...       ...       ...   \n",
       "570    0.003920      639.7     400.2      400.2  0.408884    519.95   \n",
       "574    0.000547      768.7     400.2      410.7  0.500192    584.45   \n",
       "577    0.000663      634.6     400.2      474.6  0.508392    517.40   \n",
       "582    0.000270      583.5     400.2      400.2  0.495391    491.85   \n",
       "588    0.000555      780.6     400.2      400.2  0.409784    590.40   \n",
       "\n",
       "           L_dist  bright_temp  rest_pulse_width  rest_freq_bandwidth  \\\n",
       "3    4.978343e+25    36.709261          0.232562             2.684759   \n",
       "7    6.374373e+25    36.980830          0.223350             2.760931   \n",
       "8    3.408446e+25    37.221562          0.249926             2.672901   \n",
       "10   4.567009e+25    36.468214          0.577573             2.723547   \n",
       "11   4.567009e+25    36.396245          0.627468             2.723547   \n",
       "..            ...          ...               ...                  ...   \n",
       "570  5.870095e+25    34.375725          2.782344             2.528181   \n",
       "574  7.283889e+25    36.947200          0.364620             2.742584   \n",
       "577  7.412378e+25    36.849123          0.439541             2.548472   \n",
       "582  7.208788e+25    37.231375          0.180555             2.437917   \n",
       "588  5.883875e+25    36.659079          0.393677             2.729393   \n",
       "\n",
       "     burst_energy  luminosity     kmeans    hdbscan  \n",
       "3       26.260065   29.275063  repeating  repeating  \n",
       "7       26.522309   29.492124  repeating  repeating  \n",
       "8       26.569277   29.482603  repeating  repeating  \n",
       "10      27.225491   29.853151  repeating  repeating  \n",
       "11      27.225491   29.853151  repeating  repeating  \n",
       "..            ...         ...        ...        ...  \n",
       "570     27.165449   28.782845  repeating  repeating  \n",
       "574     26.865541   29.783814  repeating  repeating  \n",
       "577     26.755240   29.812118  repeating  repeating  \n",
       "582     26.385472   29.292273  repeating  repeating  \n",
       "588     26.506635   29.478860  repeating  repeating  \n",
       "\n",
       "[232 rows x 20 columns]"
      ]
     },
     "execution_count": 25,
     "metadata": {},
     "output_type": "execute_result"
    }
   ],
   "source": [
    "file[(file['repeater_name']==0)&(file['kmeans']=='repeating')&(file['hdbscan']=='repeating')]"
   ]
  },
  {
   "cell_type": "code",
   "execution_count": 4,
   "metadata": {},
   "outputs": [],
   "source": [
    "from sklearn.feature_selection import mutual_info_classif"
   ]
  },
  {
   "cell_type": "code",
   "execution_count": 15,
   "metadata": {},
   "outputs": [],
   "source": [
    "kmeans_scores = mutual_info_classif(x,y['kmeans'])"
   ]
  },
  {
   "cell_type": "code",
   "execution_count": 18,
   "metadata": {},
   "outputs": [],
   "source": [
    "hdbscan_scores = mutual_info_classif(x,y['hdbscan'])"
   ]
  },
  {
   "cell_type": "code",
   "execution_count": 21,
   "metadata": {},
   "outputs": [
    {
     "data": {
      "image/png": "[encoded data removed]",
      "text/plain": [
       "<Figure size 432x288 with 1 Axes>"
      ]
     },
     "metadata": {
      "needs_background": "light"
     },
     "output_type": "display_data"
    }
   ],
   "source": [
    "feature_importances = pd.DataFrame(kmeans_scores, index =x.columns,  columns=['importance'])\n",
    "feature_importances.plot.bar()    # plotting ranking based on their importance   \n",
    "plt.ylabel(\"Mutual information score\")\n",
    "plt.show()"
   ]
  },
  {
   "cell_type": "code",
   "execution_count": 22,
   "metadata": {},
   "outputs": [
    {
     "data": {
      "image/png": "[encoded data removed]",
      "text/plain": [
       "<Figure size 432x288 with 1 Axes>"
      ]
     },
     "metadata": {
      "needs_background": "light"
     },
     "output_type": "display_data"
    }
   ],
   "source": [
    "feature_importances = pd.DataFrame(hdbscan_scores, index =x.columns,  columns=['importance'])\n",
    "feature_importances.plot.bar()    # plotting ranking based on their importance   \n",
    "plt.ylabel(\"Mutual information score\")\n",
    "plt.show()"
   ]
  },
  {
   "cell_type": "code",
   "execution_count": null,
   "metadata": {},
   "outputs": [],
   "source": []
  }
 ],
 "metadata": {
  "kernelspec": {
   "display_name": "Python 3.10.6 64-bit",
   "language": "python",
   "name": "python3"
  },
  "language_info": {
   "codemirror_mode": {
    "name": "ipython",
    "version": 3
   },
   "file_extension": ".py",
   "mimetype": "text/x-python",
   "name": "python",
   "nbconvert_exporter": "python",
   "pygments_lexer": "ipython3",
   "version": "3.10.6"
  },
  "orig_nbformat": 4,
  "vscode": {
   "interpreter": {
    "hash": "916dbcbb3f70747c44a77c7bcd40155683ae19c65e1c03b4aa3499c5328201f1"
   }
  }
 },
 "nbformat": 4,
 "nbformat_minor": 2
}
